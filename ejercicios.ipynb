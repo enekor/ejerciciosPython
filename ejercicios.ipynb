{
 "cells": [
  {
   "cell_type": "markdown",
   "metadata": {},
   "source": [
    "### Crea un programa que solicite tu nombre y te de la bienvenida al curso de sistemas de gestión empresarial con una frase tipo “Hola NOMBRE! Bienvenido al curso de SGE 21/22”."
   ]
  },
  {
   "cell_type": "code",
   "execution_count": 11,
   "metadata": {},
   "outputs": [
    {
     "name": "stdout",
     "output_type": "stream",
     "text": [
      "Hola Eneko! Bienvenido al curso de SGE 21/22\n",
      "Hola Eneko! Bienvenido al curso de SGE 21/22\n",
      "hola Eneko! Bienvenido al curso de SGE 21/22\n",
      "hola Eneko ! Bienvenido al curso de SGE 21/22\n",
      "hola Eneko! Bienvenido al curso de SGE 21/22\n"
     ]
    }
   ],
   "source": [
    "nombre = input('tu nombre')\n",
    "\n",
    "print(f'Hola {nombre}! Bienvenido al curso de SGE 21/22')\n",
    "print('Hola {0}! Bienvenido al curso de SGE 21/22'.format(nombre))\n",
    "print('hola %s! Bienvenido al curso de SGE 21/22' %nombre)\n",
    "print('hola',nombre,'! Bienvenido al curso de SGE 21/22')\n",
    "print('hola '+nombre+'! Bienvenido al curso de SGE 21/22')"
   ]
  },
  {
   "cell_type": "markdown",
   "metadata": {},
   "source": [
    "### Haz un programa que adivine la talla de pie y la edad del usuario que lo ejecute. Se basa en un sencillo truco matemático. El programa debe pedir al usuario que realice las siguientes operaciones (las operaciones la tiene que realizar el de cabeza, no el programa):\n",
    "* Pensar, escribir o apuntar su talla de zapato.\n",
    "* Multiplicar ese número por 5.\n",
    "* Sumarle 50.\n",
    "* Multiplicarlo por 20.\n",
    "* Sumarle 1022.\n",
    "* Restarle el año de nacimiento.\n",
    "Después debes preguntarle el resultado y calcular su talla de zapato. Para obtener la talla, las dos primeras cifras corresponderán a la talla del zapato y las dos siguientes a la edad del usuario."
   ]
  },
  {
   "cell_type": "code",
   "execution_count": 1,
   "metadata": {},
   "outputs": [
    {
     "name": "stdout",
     "output_type": "stream",
     "text": [
      "primero piensa en tu taya de zapato\n",
      "multiplicalo por 5\n",
      "sumale 50\n",
      "multiplicalo por 20\n",
      "sumale 1022\n",
      "restale tu anio de nacimiento\n",
      "tu edad es 54 y tu talla da zapato es 11\n"
     ]
    }
   ],
   "source": [
    "print('primero piensa en tu taya de zapato\\nmultiplicalo por 5\\nsumale 50\\nmultiplicalo por 20\\nsumale 1022\\nrestale tu anio de nacimiento')\n",
    "ans = int(input('que numero te ha salido'))\n",
    "\n",
    "talla = str(ans)[0:2]\n",
    "edad = str(ans)[2:]\n",
    "\n",
    "print('tu edad es',edad,'y tu talla da zapato es',talla)"
   ]
  },
  {
   "cell_type": "markdown",
   "metadata": {},
   "source": [
    "### Programa que dibuje con asteriscos un triángulo rectángulo isósceles de N asteriscos de alto. Opcional: pintar triangulo rectángulo escaleno."
   ]
  },
  {
   "cell_type": "code",
   "execution_count": null,
   "metadata": {},
   "outputs": [],
   "source": [
    "altura = int(input(\"Altura del triángulo: \"))\n",
    "tipo = int(input(\"Escaleno (1), rectangulo(2) o isosceles(3)?\"))\n",
    "\n",
    "if(tipo==1):\n",
    "    for i in range(1, altura+1):\n",
    "        for j in range(altura - i):\n",
    "            print(\" \", end=\"\")\n",
    "        for j in range(1, 2 * i):\n",
    "            print(\"* \", end=\"\")\n",
    "        print()\n",
    "\n",
    "elif(tipo==2):\n",
    "    for i in range(1,altura+1):\n",
    "        print(\"*\"*i)\n",
    "\n",
    "elif (tipo ==3):\n",
    "    for i in range(1, altura+1):\n",
    "        for j in range(altura - i):\n",
    "            print(\" \", end=\"\")\n",
    "        for j in range(1, 2 * i):\n",
    "            print(\"*\", end=\"\")\n",
    "        print()"
   ]
  },
  {
   "cell_type": "markdown",
   "metadata": {},
   "source": [
    "### Programa que adivine el numero en el que está pensando (entre 0 y 100) el usuario por tanteo (preguntando sucesivamente si es mayor o menor que un número aleatorio de partida)"
   ]
  },
  {
   "cell_type": "code",
   "execution_count": null,
   "metadata": {},
   "outputs": [],
   "source": [
    "import random\n",
    "\n",
    "adivinado = False\n",
    "minimo = 0\n",
    "maximo = 100\n",
    "numero = 50\n",
    "\n",
    "while(adivinado==False):\n",
    "    print('tu numero es mayor(1) o menor(2) de',numero,'o he adivinado (3)')\n",
    "    ans = int(input())\n",
    "    if ans == 1:\n",
    "        minimo = numero\n",
    "        numero = numero = random.randint(minimo,maximo)\n",
    "    elif ans == 2:\n",
    "        maximo = numero\n",
    "        numero = numero = random.randint(minimo,maximo)\n",
    "    elif ans == 3:\n",
    "        print('gane!')\n",
    "        adivinado = True"
   ]
  },
  {
   "cell_type": "markdown",
   "metadata": {},
   "source": [
    "### Usar un for para imprimir por pantalla todos los múltiplos de 7 menores de 100."
   ]
  },
  {
   "cell_type": "code",
   "execution_count": 7,
   "metadata": {},
   "outputs": [
    {
     "name": "stdout",
     "output_type": "stream",
     "text": [
      "7\n",
      "14\n",
      "21\n",
      "28\n",
      "35\n",
      "42\n",
      "49\n",
      "56\n",
      "63\n",
      "70\n",
      "77\n",
      "84\n",
      "91\n",
      "98\n"
     ]
    }
   ],
   "source": [
    "for i in range(1,100):\n",
    "    if i % 7 == 0:\n",
    "        print(i)"
   ]
  },
  {
   "cell_type": "markdown",
   "metadata": {},
   "source": [
    "### Solicitar una oración por teclado y realizar las siguientes operaciones sobre ella:\n",
    "* Mostrar longitud de la cadena.\n",
    "* Mostrar espacios en blanco se ingresaron.\n",
    "* Mostrar toda la oración en letras mayúsculas.\n",
    "* Duplicar el contenido de la cadena.\n",
    "* Dividir la cadena en una lista de palabras y recorrerla mostrándola y numerando cada palabra."
   ]
  },
  {
   "cell_type": "code",
   "execution_count": 13,
   "metadata": {},
   "outputs": [
    {
     "name": "stdout",
     "output_type": "stream",
     "text": [
      "longitud: 25 \n",
      "espacios en blanco: 4 \n",
      "mayusculas: MI ORDENADOR VA MUY LENTO \n",
      "duplicado: mi ordenador va muy lentomi ordenador va muy lento \n",
      "enumerado: ['mi', 'ordenador', 'va', 'muy', 'lento']\n"
     ]
    }
   ],
   "source": [
    "cadena = input('dime una frase que te venga a la cabeza')\n",
    "\n",
    "longitud = len(cadena)\n",
    "blanco = cadena.count(' ')\n",
    "mayusculas = cadena.upper()\n",
    "duplicado = cadena*2\n",
    "spliteado = cadena.split(\" \")\n",
    "\n",
    "print('longitud:',longitud,'\\nespacios en blanco:',blanco,'\\nmayusculas:',mayusculas,'\\nduplicado:',duplicado,'\\nenumerado:',spliteado)"
   ]
  },
  {
   "cell_type": "markdown",
   "metadata": {},
   "source": [
    "Definir una lista por asignación con 5 enteros. Mostrar por pantalla solo los elementos con valor iguales o superiores a 7."
   ]
  },
  {
   "cell_type": "code",
   "execution_count": 4,
   "metadata": {},
   "outputs": [
    {
     "name": "stdout",
     "output_type": "stream",
     "text": [
      "dime 5 numero\n",
      "45\n",
      "8\n"
     ]
    }
   ],
   "source": [
    "print('dime 5 numero')\n",
    "\n",
    "lista = (int(input()),int(input()),int(input()),int(input()),int(input()))\n",
    "\n",
    "for numero in lista:\n",
    "    if numero>7:\n",
    "        print(numero)\n"
   ]
  },
  {
   "cell_type": "markdown",
   "metadata": {},
   "source": [
    "Crear un programa que almacene nombres de personas, tras introducir un nombre nuevo mostrará un conteo de los nombres que tienen 5 o más caracteres y preguntará si desea introducir un nuevo nombre o salir del programa. Opcional: Cargar palabras a partir de un archivo txt."
   ]
  },
  {
   "cell_type": "code",
   "execution_count": 3,
   "metadata": {},
   "outputs": [
    {
     "name": "stdout",
     "output_type": "stream",
     "text": [
      "nuevo nombre o exit?\n",
      "0\n",
      "nuevo nombre o exit?\n",
      "1\n",
      "nuevo nombre o exit?\n",
      "1\n",
      "nuevo nombre o exit?\n",
      "2\n",
      "nuevo nombre o exit?\n",
      "2\n"
     ]
    }
   ],
   "source": [
    "lista = []\n",
    "listamas5 = []\n",
    "ans = ''\n",
    "\n",
    "while(ans != 'exit'):\n",
    "    print('nuevo nombre o exit?')\n",
    "    ans = input()\n",
    "    lista.append(ans)\n",
    "    if len(ans) >= 5:\n",
    "        listamas5.append(ans)\n",
    "    \n",
    "    print(len(listamas5))\n",
    "\n"
   ]
  },
  {
   "cell_type": "code",
   "execution_count": 24,
   "metadata": {},
   "outputs": [
    {
     "name": "stdout",
     "output_type": "stream",
     "text": [
      "3\n"
     ]
    }
   ],
   "source": [
    "fichero = open(\"nombres.txt\")\n",
    "\n",
    "lista = fichero.readlines()\n",
    "\n",
    "print(len(lista))"
   ]
  },
  {
   "cell_type": "markdown",
   "metadata": {},
   "source": [
    "Crear un programa que almacene con dos opciones: 1. Agregar personas: permite introducir nombres de personas de forma interactiva, 2. Sorteo: devuelve el nombre de una persona al azar. Opcional: Cargar nombre a partir de un archivo csv."
   ]
  },
  {
   "cell_type": "code",
   "execution_count": 23,
   "metadata": {},
   "outputs": [
    {
     "name": "stdout",
     "output_type": "stream",
     "text": [
      "quiere meter un nuevo nombre (1) o que le devuelva uno al azar de la base de datos(2)?\n",
      "exit(3)\n",
      "quiere meter un nuevo nombre (1) o que le devuelva uno al azar de la base de datos(2)?\n",
      "exit(3)\n",
      "quiere meter un nuevo nombre (1) o que le devuelva uno al azar de la base de datos(2)?\n",
      "exit(3)\n",
      "quiere meter un nuevo nombre (1) o que le devuelva uno al azar de la base de datos(2)?\n",
      "exit(3)\n",
      "ppe\n",
      "quiere meter un nuevo nombre (1) o que le devuelva uno al azar de la base de datos(2)?\n",
      "exit(3)\n",
      "eneko\n",
      "quiere meter un nuevo nombre (1) o que le devuelva uno al azar de la base de datos(2)?\n",
      "exit(3)\n",
      "ppe\n",
      "quiere meter un nuevo nombre (1) o que le devuelva uno al azar de la base de datos(2)?\n",
      "exit(3)\n"
     ]
    }
   ],
   "source": [
    "import random\n",
    "\n",
    "ans = \"\"\n",
    "array = []\n",
    "\n",
    "while(ans!='3'):\n",
    "    print(\"quiere meter un nuevo nombre (1) o que le devuelva uno al azar de la base de datos(2)?\")\n",
    "    print(\"exit(3)\")\n",
    "\n",
    "    ans = input()\n",
    "\n",
    "    if ans == \"1\":\n",
    "        array.append(input('digame el nombre'))\n",
    "    elif ans == '2':\n",
    "        print(array[random.randint(0,len(array)-1)])\n",
    "\n"
   ]
  },
  {
   "cell_type": "code",
   "execution_count": 28,
   "metadata": {},
   "outputs": [
    {
     "name": "stdout",
     "output_type": "stream",
     "text": [
      "['eneko', 'saul', 'pepe', 'maria', 'juan']\n"
     ]
    }
   ],
   "source": [
    "nombres = open('nombres.csv').readline().split(';')\n",
    "\n",
    "print(nombres)\n"
   ]
  },
  {
   "cell_type": "markdown",
   "metadata": {},
   "source": [
    "Crear un programa “Diccionario” que permita consultar definiciones, agregar nuevas palabras con su definición o eliminar palabras. Opcional: Cargar diccionario a partir de un archivo csv."
   ]
  },
  {
   "cell_type": "code",
   "execution_count": 32,
   "metadata": {},
   "outputs": [
    {
     "name": "stdout",
     "output_type": "stream",
     "text": [
      "{'leon': 'lion', 'pajaro': 'bird', 'saul': 'saul'}\n",
      "{'leon': 'lion', 'saul': 'saul'}\n",
      "no tenemos esa consulta\n",
      "adios\n"
     ]
    }
   ],
   "source": [
    "diccionario = {\"leon\":'lion','pajaro':'bird'}\n",
    "\n",
    "ans = ''\n",
    "\n",
    "while ans !='4':\n",
    "    ans = input('consultar(1),nuevo(2),borrar una(3), salir(4)')\n",
    "\n",
    "    if ans == '1':\n",
    "        consulta = input('dime que quieres buscar')\n",
    "        if consulta in diccionario:print(diccionario[consulta])\n",
    "        else: print('no tenemos esa consulta')\n",
    "    elif ans == '2':\n",
    "        key = input('palabra a traducir')\n",
    "        traduccion = input('traduccion')\n",
    "        diccionario[key] = traduccion\n",
    "        print(diccionario)\n",
    "    elif ans == '3':\n",
    "        borrar = input('cual quieres borrar')\n",
    "        if(borrar in diccionario):\n",
    "            diccionario.pop(borrar)\n",
    "            print(diccionario)\n",
    "        else: print('no existe ese valor en el diccionario')\n",
    "    elif ans == '4':\n",
    "        print('adios')"
   ]
  },
  {
   "cell_type": "code",
   "execution_count": 20,
   "metadata": {},
   "outputs": [
    {
     "name": "stdout",
     "output_type": "stream",
     "text": [
      "{'pajaro': 'bird', 'leon': 'lion', 'coche\\n': 'car'}\n"
     ]
    }
   ],
   "source": [
    "fichero = open('diccionario.csv')\n",
    "keys = fichero.readline().split(';')\n",
    "traducciones = fichero.readline().split(';')\n",
    "diccionarioCSV = zip(keys,traducciones)\n",
    "diccionarioCSV = dict(diccionarioCSV)\n",
    "\n",
    "##for i in range(len(keys)-1):\n",
    "##    diccionarioCSV[keys[i]]=traducciones[i]\n",
    "\n",
    "print(diccionarioCSV)"
   ]
  },
  {
   "cell_type": "markdown",
   "metadata": {},
   "source": [
    "Ingresar por teclado los nombres de 5 personas y almacenarlos en una lista. Crear una nueva lista con los nombres ordenados alfabéticamente e imprimirla por pantalla. Opcional: Crea una función que ordene os nombres por su longitud para pasársela como parámetro al método Short."
   ]
  },
  {
   "cell_type": "code",
   "execution_count": 25,
   "metadata": {},
   "outputs": [
    {
     "name": "stdout",
     "output_type": "stream",
     "text": [
      "dime 5 nombres de personas\n",
      "sin ordenar ['z', 'h', 'r', 't', 'a']\n",
      "ordenados ['a', 'h', 'r', 't', 'z']\n"
     ]
    }
   ],
   "source": [
    "print('dime 5 nombres de personas')\n",
    "nombres = [input(),input(),input(),input(),input()]\n",
    "\n",
    "nombresOrdenados = nombres.copy()\n",
    "nombresOrdenados.sort()\n",
    "\n",
    "print(f'sin ordenar {nombres}')\n",
    "print(f'ordenados {nombresOrdenados}')\n"
   ]
  },
  {
   "cell_type": "markdown",
   "metadata": {},
   "source": [
    "Crear una lista con contenido [[50,34,70,20], [5,70,30,25], [10,5], [75,43,56,32,89], [[54,72]]. Imprimir la lista, asignar valor cero a todos los elementos mayores a 50 y volver a imprimir la lista."
   ]
  },
  {
   "cell_type": "code",
   "execution_count": 33,
   "metadata": {},
   "outputs": [
    {
     "name": "stdout",
     "output_type": "stream",
     "text": [
      "([50, 34, 70, 20], [5, 70, 30, 25], [10, 5], [75, 43, 56, 32, 89], [54, 72])\n",
      "([50, 34, 0, 20], [5, 0, 30, 25], [10, 5], [0, 43, 0, 32, 0], [0, 0])\n"
     ]
    }
   ],
   "source": [
    "lista = [50,34,70,20], [5,70,30,25], [10,5], [75,43,56,32,89], [54,72]\n",
    "print(lista)\n",
    "\n",
    "for elemento in lista:\n",
    "    for posicion in range(len(elemento)):\n",
    "        if elemento[posicion]>50:\n",
    "            elemento[posicion] = 0\n",
    "\n",
    "print(lista)"
   ]
  },
  {
   "cell_type": "markdown",
   "metadata": {},
   "source": [
    "Confeccionar un programa que calcule el factorial de un número introducido por teclado:"
   ]
  },
  {
   "cell_type": "code",
   "execution_count": 1,
   "metadata": {},
   "outputs": [
    {
     "name": "stdout",
     "output_type": "stream",
     "text": [
      "2\n"
     ]
    }
   ],
   "source": [
    "def factorial(a):\n",
    "    if a == 1:\n",
    "        return  a\n",
    "    else: \n",
    "        return factorial(a-1)*a\n",
    "\n",
    "print(factorial(int(input('dime el numero a sacar el factorial'))))"
   ]
  },
  {
   "cell_type": "markdown",
   "metadata": {},
   "source": [
    "Escribe una función que tome una palabra y retorne con todas las letras en minúscula menos la primera y la última."
   ]
  },
  {
   "cell_type": "code",
   "execution_count": 22,
   "metadata": {},
   "outputs": [
    {
     "name": "stdout",
     "output_type": "stream",
     "text": [
      "no has especificado palabra\n"
     ]
    }
   ],
   "source": [
    "def palabraRara(palabra):\n",
    "    if (len(palabra)>1):\n",
    "        return palabra[0].upper()+palabra[1:-1].lower()+palabra[-1].upper()\n",
    "    elif len(palabra)==1:\n",
    "        return palabra.upper()\n",
    "    else:\n",
    "        return 'no has especificado palabra'\n",
    "\n",
    "palabra = input('dime la palabra')\n",
    "\n",
    "print(palabraRara(palabra))\n"
   ]
  },
  {
   "cell_type": "markdown",
   "metadata": {},
   "source": [
    "Reescribe el ejercicio 3 del apartado “Colecciones” utilizando una función para presentar el menú y recibir la opción seleccionada."
   ]
  }
 ],
 "metadata": {
  "interpreter": {
   "hash": "cfcfbbd76e88e95dc35e2ca9edf0c1e882d0553cc29bc4cac8c0f4eabeb0ecb9"
  },
  "kernelspec": {
   "display_name": "Python 3.10.1 64-bit",
   "language": "python",
   "name": "python3"
  },
  "language_info": {
   "codemirror_mode": {
    "name": "ipython",
    "version": 3
   },
   "file_extension": ".py",
   "mimetype": "text/x-python",
   "name": "python",
   "nbconvert_exporter": "python",
   "pygments_lexer": "ipython3",
   "version": "3.10.1"
  },
  "orig_nbformat": 4
 },
 "nbformat": 4,
 "nbformat_minor": 2
}
