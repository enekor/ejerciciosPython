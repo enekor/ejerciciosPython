{
 "cells": [
  {
   "cell_type": "markdown",
   "metadata": {},
   "source": [
    "### Crea un programa que solicite tu nombre y te de la bienvenida al curso de sistemas de gestión empresarial con una frase tipo “Hola NOMBRE! Bienvenido al curso de SGE 21/22”."
   ]
  },
  {
   "cell_type": "code",
   "execution_count": 2,
   "metadata": {},
   "outputs": [
    {
     "name": "stdout",
     "output_type": "stream",
     "text": [
      "Hola Eneko ! Bienvenido al curso de SGE 21/22\n"
     ]
    }
   ],
   "source": [
    "nombre = input('tu nombre')\n",
    "\n",
    "print('Hola',nombre,'! Bienvenido al curso de SGE 21/22')"
   ]
  },
  {
   "cell_type": "markdown",
   "metadata": {},
   "source": [
    "### Haz un programa que adivine la talla de pie y la edad del usuario que lo ejecute. Se basa en un sencillo truco matemático. El programa debe pedir al usuario que realice las siguientes operaciones (las operaciones la tiene que realizar el de cabeza, no el programa):\n",
    "* Pensar, escribir o apuntar su talla de zapato.\n",
    "* Multiplicar ese número por 5.\n",
    "* Sumarle 50.\n",
    "* Multiplicarlo por 20.\n",
    "* Sumarle 1022.\n",
    "* Restarle el año de nacimiento.\n",
    "Después debes preguntarle el resultado y calcular su talla de zapato. Para obtener la talla, las dos primeras cifras corresponderán a la talla del zapato y las dos siguientes a la edad del usuario."
   ]
  },
  {
   "cell_type": "code",
   "execution_count": 1,
   "metadata": {},
   "outputs": [
    {
     "name": "stdout",
     "output_type": "stream",
     "text": [
      "primero piensa en tu taya de zapato\n",
      "multiplicalo por 5\n",
      "sumale 50\n",
      "multiplicalo por 20\n",
      "sumale 1022\n",
      "restale tu anio de nacimiento\n",
      "tu edad es 54 y tu talla da zapato es 11\n"
     ]
    }
   ],
   "source": [
    "print('primero piensa en tu taya de zapato\\nmultiplicalo por 5\\nsumale 50\\nmultiplicalo por 20\\nsumale 1022\\nrestale tu anio de nacimiento')\n",
    "ans = int(input('que numero te ha salido'))\n",
    "\n",
    "talla = str(ans)[0:2]\n",
    "edad = str(ans)[2:]\n",
    "\n",
    "print('tu edad es',edad,'y tu talla da zapato es',talla)"
   ]
  },
  {
   "cell_type": "markdown",
   "metadata": {},
   "source": [
    "### Programa que dibuje con asteriscos un triángulo rectángulo isósceles de N asteriscos de alto. Opcional: pintar triangulo rectángulo escaleno."
   ]
  },
  {
   "cell_type": "code",
   "execution_count": null,
   "metadata": {},
   "outputs": [],
   "source": [
    "altura = int(input(\"Altura del triángulo: \"))\n",
    "tipo = int(input(\"Escaleno (1), rectangulo(2) o isosceles(3)?\"))\n",
    "\n",
    "if(tipo==1):\n",
    "    for i in range(1, altura+1):\n",
    "        for j in range(altura - i):\n",
    "            print(\" \", end=\"\")\n",
    "        for j in range(1, 2 * i):\n",
    "            print(\"* \", end=\"\")\n",
    "        print()\n",
    "\n",
    "elif(tipo==2):\n",
    "    for i in range(1,altura+1):\n",
    "        print(\"*\"*i)\n",
    "\n",
    "elif (tipo ==3):\n",
    "    for i in range(1, altura+1):\n",
    "        for j in range(altura - i):\n",
    "            print(\" \", end=\"\")\n",
    "        for j in range(1, 2 * i):\n",
    "            print(\"*\", end=\"\")\n",
    "        print()"
   ]
  },
  {
   "cell_type": "markdown",
   "metadata": {},
   "source": [
    "### Programa que adivine el numero en el que está pensando (entre 0 y 100) el usuario por tanteo (preguntando sucesivamente si es mayor o menor que un número aleatorio de partida)"
   ]
  },
  {
   "cell_type": "code",
   "execution_count": null,
   "metadata": {},
   "outputs": [],
   "source": [
    "import random\n",
    "\n",
    "adivinado = False\n",
    "minimo = 0\n",
    "maximo = 100\n",
    "numero = 50\n",
    "\n",
    "while(adivinado==False):\n",
    "    print('tu numero es mayor(1) o menor(2) de',numero,'o he adivinado (3)')\n",
    "    ans = int(input())\n",
    "    if ans == 1:\n",
    "        minimo = numero\n",
    "        numero = numero = random.randint(minimo,maximo)\n",
    "    elif ans == 2:\n",
    "        maximo = numero\n",
    "        numero = numero = random.randint(minimo,maximo)\n",
    "    elif ans == 3:\n",
    "        print('gane!')\n",
    "        adivinado = True"
   ]
  },
  {
   "cell_type": "markdown",
   "metadata": {},
   "source": [
    "### Usar un for para imprimir por pantalla todos los múltiplos de 7 menores de 100."
   ]
  },
  {
   "cell_type": "code",
   "execution_count": 7,
   "metadata": {},
   "outputs": [
    {
     "name": "stdout",
     "output_type": "stream",
     "text": [
      "7\n",
      "14\n",
      "21\n",
      "28\n",
      "35\n",
      "42\n",
      "49\n",
      "56\n",
      "63\n",
      "70\n",
      "77\n",
      "84\n",
      "91\n",
      "98\n"
     ]
    }
   ],
   "source": [
    "for i in range(1,100):\n",
    "    if i % 7 == 0:\n",
    "        print(i)"
   ]
  },
  {
   "cell_type": "markdown",
   "metadata": {},
   "source": [
    "### Solicitar una oración por teclado y realizar las siguientes operaciones sobre ella:\n",
    "* Mostrar longitud de la cadena.\n",
    "* Mostrar espacios en blanco se ingresaron.\n",
    "* Mostrar toda la oración en letras mayúsculas.\n",
    "* Duplicar el contenido de la cadena.\n",
    "* Dividir la cadena en una lista de palabras y recorrerla mostrándola y numerando cada palabra."
   ]
  },
  {
   "cell_type": "code",
   "execution_count": 13,
   "metadata": {},
   "outputs": [
    {
     "name": "stdout",
     "output_type": "stream",
     "text": [
      "longitud: 25 \n",
      "espacios en blanco: 4 \n",
      "mayusculas: MI ORDENADOR VA MUY LENTO \n",
      "duplicado: mi ordenador va muy lentomi ordenador va muy lento \n",
      "enumerado: ['mi', 'ordenador', 'va', 'muy', 'lento']\n"
     ]
    }
   ],
   "source": [
    "cadena = input('dime una frase que te venga a la cabeza')\n",
    "\n",
    "longitud = len(cadena)\n",
    "blanco = cadena.count(' ')\n",
    "mayusculas = cadena.upper()\n",
    "duplicado = cadena*2\n",
    "spliteado = cadena.split(\" \")\n",
    "\n",
    "print('longitud:',longitud,'\\nespacios en blanco:',blanco,'\\nmayusculas:',mayusculas,'\\nduplicado:',duplicado,'\\nenumerado:',spliteado)"
   ]
  },
  {
   "cell_type": "markdown",
   "metadata": {},
   "source": [
    "Definir una lista por asignación con 5 enteros. Mostrar por pantalla solo los elementos con valor iguales o superiores a 7."
   ]
  },
  {
   "cell_type": "code",
   "execution_count": 4,
   "metadata": {},
   "outputs": [
    {
     "name": "stdout",
     "output_type": "stream",
     "text": [
      "dime 5 numero\n",
      "45\n",
      "8\n"
     ]
    }
   ],
   "source": [
    "print('dime 5 numero')\n",
    "\n",
    "lista = (int(input()),int(input()),int(input()),int(input()),int(input()))\n",
    "\n",
    "for numero in lista:\n",
    "    if numero>7:\n",
    "        print(numero)\n"
   ]
  },
  {
   "cell_type": "markdown",
   "metadata": {},
   "source": [
    "Crear un programa que almacene nombres de personas, tras introducir un nombre nuevo mostrará un conteo de los nombres que tienen 5 o más caracteres y preguntará si desea introducir un nuevo nombre o salir del programa. Opcional: Cargar palabras a partir de un archivo txt."
   ]
  },
  {
   "cell_type": "code",
   "execution_count": 3,
   "metadata": {},
   "outputs": [
    {
     "name": "stdout",
     "output_type": "stream",
     "text": [
      "nuevo nombre o exit?\n",
      "0\n",
      "nuevo nombre o exit?\n",
      "1\n",
      "nuevo nombre o exit?\n",
      "1\n",
      "nuevo nombre o exit?\n",
      "2\n",
      "nuevo nombre o exit?\n",
      "2\n"
     ]
    }
   ],
   "source": [
    "lista = []\n",
    "listamas5 = []\n",
    "ans = ''\n",
    "\n",
    "while(ans != 'exit'):\n",
    "    print('nuevo nombre o exit?')\n",
    "    ans = input()\n",
    "    lista.append(ans)\n",
    "    if len(ans) >= 5:\n",
    "        listamas5.append(ans)\n",
    "    \n",
    "    print(len(listamas5))\n",
    "\n"
   ]
  },
  {
   "cell_type": "code",
   "execution_count": 11,
   "metadata": {},
   "outputs": [
    {
     "name": "stdout",
     "output_type": "stream",
     "text": [
      "3\n"
     ]
    }
   ],
   "source": [
    "fichero = open(\"nombres.txt\")\n",
    "\n",
    "lista = fichero.readlines()\n",
    "\n",
    "print(len(lista))"
   ]
  },
  {
   "cell_type": "markdown",
   "metadata": {},
   "source": [
    "Crear un programa que almacene con dos opciones: 1. Agregar personas: permite introducir nombres de personas de forma interactiva, 2. Sorteo: devuelve el nombre de una persona al azar. Opcional: Cargar nombre a partir de un archivo csv."
   ]
  },
  {
   "cell_type": "code",
   "execution_count": null,
   "metadata": {},
   "outputs": [],
   "source": []
  }
 ],
 "metadata": {
  "interpreter": {
   "hash": "cfcfbbd76e88e95dc35e2ca9edf0c1e882d0553cc29bc4cac8c0f4eabeb0ecb9"
  },
  "kernelspec": {
   "display_name": "Python 3.10.1 64-bit",
   "language": "python",
   "name": "python3"
  },
  "language_info": {
   "codemirror_mode": {
    "name": "ipython",
    "version": 3
   },
   "file_extension": ".py",
   "mimetype": "text/x-python",
   "name": "python",
   "nbconvert_exporter": "python",
   "pygments_lexer": "ipython3",
   "version": "3.10.1"
  },
  "orig_nbformat": 4
 },
 "nbformat": 4,
 "nbformat_minor": 2
}
